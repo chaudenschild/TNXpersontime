{
 "cells": [
  {
   "cell_type": "markdown",
   "metadata": {},
   "source": [
    "## TNXpersontime python tutorial\n",
    "\n",
    "The TNXpersontime package is a small tool suite that provides estimations of time-at-risk based on encounter data as well as simple risk and rate calculations. Included in this directory is a sample dataset of diabetic ketoacidosis (DKD) patients. To setup, either pip install the tnxpersontime python module (included in the root dir of this package) to your environment of choice or activate the bundled virtual environment tnxpersontime-venv, which has tnxpersontime and dependencies pre-installed."
   ]
  },
  {
   "cell_type": "markdown",
   "metadata": {},
   "source": [
    "! source tnxpersontime-venv/bin/activate"
   ]
  },
  {
   "cell_type": "code",
   "execution_count": 1,
   "metadata": {},
   "outputs": [],
   "source": [
    "import tnxpersontime as t"
   ]
  },
  {
   "cell_type": "markdown",
   "metadata": {},
   "source": [
    "## Data load-in\n",
    "\n",
    "The TNXCsv class is a convenience class that converts specified columns to datetime on read-in."
   ]
  },
  {
   "cell_type": "code",
   "execution_count": 2,
   "metadata": {},
   "outputs": [],
   "source": [
    "import pandas as pd\n",
    "\n",
    "index_file = t.TNXCsv('sample_data/sample_DKD_index.csv', dt_cols=['index_d', 'date_death', 'date_HF'])\n",
    "\n",
    "encounter = t.TNXCsv('sample_data/sample_DKD_encounter.csv', dt_cols = [\"start_date\", \"end_date\"], dt_format = \"%Y%m%d\")"
   ]
  },
  {
   "cell_type": "markdown",
   "metadata": {},
   "source": [
    "The loaded DataFrame is accessible through the df attribute, or alternatively by function calling the TNXCsv object."
   ]
  },
  {
   "cell_type": "code",
   "execution_count": 19,
   "metadata": {},
   "outputs": [
    {
     "data": {
      "text/html": [
       "<div>\n",
       "<style scoped>\n",
       "    .dataframe tbody tr th:only-of-type {\n",
       "        vertical-align: middle;\n",
       "    }\n",
       "\n",
       "    .dataframe tbody tr th {\n",
       "        vertical-align: top;\n",
       "    }\n",
       "\n",
       "    .dataframe thead th {\n",
       "        text-align: right;\n",
       "    }\n",
       "</style>\n",
       "<table border=\"1\" class=\"dataframe\">\n",
       "  <thead>\n",
       "    <tr style=\"text-align: right;\">\n",
       "      <th></th>\n",
       "      <th>encounter_id</th>\n",
       "      <th>patient_id</th>\n",
       "      <th>start_date</th>\n",
       "      <th>end_date</th>\n",
       "      <th>type</th>\n",
       "      <th>derived_by_TriNetX</th>\n",
       "    </tr>\n",
       "  </thead>\n",
       "  <tbody>\n",
       "    <tr>\n",
       "      <td>0</td>\n",
       "      <td>4bd804a77ab72423f24ec21a305ab1f5895df1d4</td>\n",
       "      <td>40f426d38dc3b27a4593b1adb6863faaaac15c8f</td>\n",
       "      <td>2018-12-29</td>\n",
       "      <td>2018-12-29</td>\n",
       "      <td>EMER</td>\n",
       "      <td>F</td>\n",
       "    </tr>\n",
       "    <tr>\n",
       "      <td>1</td>\n",
       "      <td>dee2045a192a24f1ff176005fcd1bdafbb6fbdc2</td>\n",
       "      <td>40f426d38dc3b27a4593b1adb6863faaaac15c8f</td>\n",
       "      <td>2018-12-30</td>\n",
       "      <td>2018-12-30</td>\n",
       "      <td>EMER</td>\n",
       "      <td>F</td>\n",
       "    </tr>\n",
       "    <tr>\n",
       "      <td>2</td>\n",
       "      <td>f339d7168e947a2501425ffe35c374378a117823</td>\n",
       "      <td>40f426d38dc3b27a4593b1adb6863faaaac15c8f</td>\n",
       "      <td>2018-12-30</td>\n",
       "      <td>2019-01-03</td>\n",
       "      <td>IMP</td>\n",
       "      <td>F</td>\n",
       "    </tr>\n",
       "    <tr>\n",
       "      <td>3</td>\n",
       "      <td>cee2baf88ec76205f9b444e40803805b3b167d80</td>\n",
       "      <td>9dd1441bc6bb7f72553ccd8fcc57729faf67be83</td>\n",
       "      <td>2013-07-15</td>\n",
       "      <td>2013-07-16</td>\n",
       "      <td>IMP</td>\n",
       "      <td>F</td>\n",
       "    </tr>\n",
       "    <tr>\n",
       "      <td>4</td>\n",
       "      <td>5cb6102ec1823db6591a918dd8cf6398a1943b7c</td>\n",
       "      <td>9dd1441bc6bb7f72553ccd8fcc57729faf67be83</td>\n",
       "      <td>2013-01-07</td>\n",
       "      <td>2013-01-07</td>\n",
       "      <td>AMB</td>\n",
       "      <td>F</td>\n",
       "    </tr>\n",
       "  </tbody>\n",
       "</table>\n",
       "</div>"
      ],
      "text/plain": [
       "                               encounter_id  \\\n",
       "0  4bd804a77ab72423f24ec21a305ab1f5895df1d4   \n",
       "1  dee2045a192a24f1ff176005fcd1bdafbb6fbdc2   \n",
       "2  f339d7168e947a2501425ffe35c374378a117823   \n",
       "3  cee2baf88ec76205f9b444e40803805b3b167d80   \n",
       "4  5cb6102ec1823db6591a918dd8cf6398a1943b7c   \n",
       "\n",
       "                                 patient_id start_date   end_date  type  \\\n",
       "0  40f426d38dc3b27a4593b1adb6863faaaac15c8f 2018-12-29 2018-12-29  EMER   \n",
       "1  40f426d38dc3b27a4593b1adb6863faaaac15c8f 2018-12-30 2018-12-30  EMER   \n",
       "2  40f426d38dc3b27a4593b1adb6863faaaac15c8f 2018-12-30 2019-01-03   IMP   \n",
       "3  9dd1441bc6bb7f72553ccd8fcc57729faf67be83 2013-07-15 2013-07-16   IMP   \n",
       "4  9dd1441bc6bb7f72553ccd8fcc57729faf67be83 2013-01-07 2013-01-07   AMB   \n",
       "\n",
       "  derived_by_TriNetX  \n",
       "0                  F  \n",
       "1                  F  \n",
       "2                  F  \n",
       "3                  F  \n",
       "4                  F  "
      ]
     },
     "execution_count": 19,
     "metadata": {},
     "output_type": "execute_result"
    }
   ],
   "source": [
    "encounter.df.head()"
   ]
  },
  {
   "cell_type": "code",
   "execution_count": 20,
   "metadata": {},
   "outputs": [
    {
     "data": {
      "text/html": [
       "<div>\n",
       "<style scoped>\n",
       "    .dataframe tbody tr th:only-of-type {\n",
       "        vertical-align: middle;\n",
       "    }\n",
       "\n",
       "    .dataframe tbody tr th {\n",
       "        vertical-align: top;\n",
       "    }\n",
       "\n",
       "    .dataframe thead th {\n",
       "        text-align: right;\n",
       "    }\n",
       "</style>\n",
       "<table border=\"1\" class=\"dataframe\">\n",
       "  <thead>\n",
       "    <tr style=\"text-align: right;\">\n",
       "      <th></th>\n",
       "      <th>patient_id</th>\n",
       "      <th>index_d</th>\n",
       "      <th>date_death</th>\n",
       "      <th>date_HF</th>\n",
       "      <th>HF</th>\n",
       "      <th>sex</th>\n",
       "      <th>age_index</th>\n",
       "      <th>reth</th>\n",
       "      <th>age_cat</th>\n",
       "      <th>combo_v4</th>\n",
       "    </tr>\n",
       "  </thead>\n",
       "  <tbody>\n",
       "    <tr>\n",
       "      <td>0</td>\n",
       "      <td>0000b8d53ec0e7912f7227ad839828f9b66e995a</td>\n",
       "      <td>2018-05-17</td>\n",
       "      <td>NaT</td>\n",
       "      <td>NaT</td>\n",
       "      <td>0</td>\n",
       "      <td>F</td>\n",
       "      <td>72.421918</td>\n",
       "      <td>4</td>\n",
       "      <td>3</td>\n",
       "      <td>no change - healthy</td>\n",
       "    </tr>\n",
       "    <tr>\n",
       "      <td>1</td>\n",
       "      <td>0000beb21c1a19bf2c09215e58bb59ec1cc39bcd</td>\n",
       "      <td>2017-08-18</td>\n",
       "      <td>NaT</td>\n",
       "      <td>NaT</td>\n",
       "      <td>0</td>\n",
       "      <td>F</td>\n",
       "      <td>66.673973</td>\n",
       "      <td>1</td>\n",
       "      <td>3</td>\n",
       "      <td>no change - healthy</td>\n",
       "    </tr>\n",
       "    <tr>\n",
       "      <td>2</td>\n",
       "      <td>000196275411136c759a4c763c157eb52e5d74fa</td>\n",
       "      <td>2017-08-08</td>\n",
       "      <td>NaT</td>\n",
       "      <td>NaT</td>\n",
       "      <td>0</td>\n",
       "      <td>M</td>\n",
       "      <td>61.643836</td>\n",
       "      <td>4</td>\n",
       "      <td>3</td>\n",
       "      <td>NaN</td>\n",
       "    </tr>\n",
       "    <tr>\n",
       "      <td>3</td>\n",
       "      <td>00034a621c0d2f093945b748d477b9a5c6c06ed3</td>\n",
       "      <td>2018-07-27</td>\n",
       "      <td>NaT</td>\n",
       "      <td>NaT</td>\n",
       "      <td>0</td>\n",
       "      <td>F</td>\n",
       "      <td>54.605479</td>\n",
       "      <td>2</td>\n",
       "      <td>2</td>\n",
       "      <td>change - increased from unhealthy to unhealthy</td>\n",
       "    </tr>\n",
       "    <tr>\n",
       "      <td>4</td>\n",
       "      <td>0003fade5db6291f8bfdcd0324129eb2607ac754</td>\n",
       "      <td>2019-07-06</td>\n",
       "      <td>NaT</td>\n",
       "      <td>NaT</td>\n",
       "      <td>0</td>\n",
       "      <td>M</td>\n",
       "      <td>78.561644</td>\n",
       "      <td>1</td>\n",
       "      <td>3</td>\n",
       "      <td>no change - healthy</td>\n",
       "    </tr>\n",
       "  </tbody>\n",
       "</table>\n",
       "</div>"
      ],
      "text/plain": [
       "                                 patient_id    index_d date_death date_HF  HF  \\\n",
       "0  0000b8d53ec0e7912f7227ad839828f9b66e995a 2018-05-17        NaT     NaT   0   \n",
       "1  0000beb21c1a19bf2c09215e58bb59ec1cc39bcd 2017-08-18        NaT     NaT   0   \n",
       "2  000196275411136c759a4c763c157eb52e5d74fa 2017-08-08        NaT     NaT   0   \n",
       "3  00034a621c0d2f093945b748d477b9a5c6c06ed3 2018-07-27        NaT     NaT   0   \n",
       "4  0003fade5db6291f8bfdcd0324129eb2607ac754 2019-07-06        NaT     NaT   0   \n",
       "\n",
       "  sex  age_index  reth  age_cat  \\\n",
       "0   F  72.421918     4        3   \n",
       "1   F  66.673973     1        3   \n",
       "2   M  61.643836     4        3   \n",
       "3   F  54.605479     2        2   \n",
       "4   M  78.561644     1        3   \n",
       "\n",
       "                                         combo_v4  \n",
       "0                             no change - healthy  \n",
       "1                             no change - healthy  \n",
       "2                                             NaN  \n",
       "3  change - increased from unhealthy to unhealthy  \n",
       "4                             no change - healthy  "
      ]
     },
     "execution_count": 20,
     "metadata": {},
     "output_type": "execute_result"
    }
   ],
   "source": [
    "index_file().head()"
   ]
  },
  {
   "cell_type": "markdown",
   "metadata": {},
   "source": [
    "The input file must be provided by the investigator. At minimum it must include a column of unique patient ids with a corresponding index date column, which is the date at which the patient is considered to have entered the at-risk population - in this example, the index_d column is the date that the given patient was diagnosed with DKD.\n",
    "\n",
    "Optionally, the index file may include additional endpoint measurements - in this example, the date of death (date_death) and the date of a heart failure incident (date_HF), as applicable. If present, these dates are considered hard endpoints at which a patient stops contributing time-at-risk.\n",
    "\n",
    "Furthermore, if rate and risk metrics are to be calculated, a categorical column containing the exposure variable should be included in the index file. Here, the 'combo_v4' column indicates the category representing the change in estimated glomerular filtration rate (eGFR) of the patient. NaN represents missing eGFR change information."
   ]
  },
  {
   "cell_type": "code",
   "execution_count": 21,
   "metadata": {},
   "outputs": [
    {
     "data": {
      "text/plain": [
       "array(['no change - healthy', nan,\n",
       "       'change - increased from unhealthy to unhealthy',\n",
       "       'change - decreased from unhealthy to unhealthy',\n",
       "       'no change - unhealthy',\n",
       "       'change - decreased from healthy to unhealthy',\n",
       "       'change - increased from unhealthy to healthy'], dtype=object)"
      ]
     },
     "execution_count": 21,
     "metadata": {},
     "output_type": "execute_result"
    }
   ],
   "source": [
    "index_file()['combo_v4'].unique()"
   ]
  },
  {
   "cell_type": "markdown",
   "metadata": {},
   "source": [
    "## Person time-at-risk calculation\n",
    "\n",
    "The index object and encounter object can now be folded into a PersonTime object. Note that this automatically subsets the encounter file to only include patients that are in the index file. \n"
   ]
  },
  {
   "cell_type": "code",
   "execution_count": 3,
   "metadata": {},
   "outputs": [],
   "source": [
    "persontime = t.PersonTime(\n",
    "    encounter,\n",
    "    index_file,\n",
    "    index_file_endpoints=[\"date_death\", \"date_HF\"],\n",
    "    index_date_alias=\"index_d\"\n",
    ")"
   ]
  },
  {
   "cell_type": "markdown",
   "metadata": {},
   "source": [
    "Once the index and encounter object are loaded in, the person days-at-risk can be computed on a patient-by-patient basis. The window_days argument specifies the window of time before and after each encounter that is added to the day-at-risk count for a given patient. The index_offset argument can optionally be supplied if the investigator chooses to begin the person-time tally at a certain point before or after the index date. Here, time-at-risk is only added to the given patient's pool if it falls later than one year after a patient's index date.\n",
    "\n",
    "Note that this is a computationally intensive process. For convenience, skip this code block and load in the supplied precomputed data."
   ]
  },
  {
   "cell_type": "code",
   "execution_count": null,
   "metadata": {},
   "outputs": [],
   "source": [
    "persontime.generate_person_time_df(window_days=30, index_offset=365, output_save_path='data/new_days_30_df.csv')"
   ]
  },
  {
   "cell_type": "code",
   "execution_count": 23,
   "metadata": {},
   "outputs": [],
   "source": [
    "#Load precomputed instead\n",
    "persontime.load_person_time_df('sample_data/30day_preprocessed_persontime_DKD.csv')"
   ]
  },
  {
   "cell_type": "code",
   "execution_count": 27,
   "metadata": {},
   "outputs": [
    {
     "data": {
      "text/html": [
       "<div>\n",
       "<style scoped>\n",
       "    .dataframe tbody tr th:only-of-type {\n",
       "        vertical-align: middle;\n",
       "    }\n",
       "\n",
       "    .dataframe tbody tr th {\n",
       "        vertical-align: top;\n",
       "    }\n",
       "\n",
       "    .dataframe thead th {\n",
       "        text-align: right;\n",
       "    }\n",
       "</style>\n",
       "<table border=\"1\" class=\"dataframe\">\n",
       "  <thead>\n",
       "    <tr style=\"text-align: right;\">\n",
       "      <th></th>\n",
       "      <th>patient_id</th>\n",
       "      <th>window_time</th>\n",
       "      <th>total_time</th>\n",
       "    </tr>\n",
       "  </thead>\n",
       "  <tbody>\n",
       "    <tr>\n",
       "      <td>0</td>\n",
       "      <td>0000b8d53ec0e7912f7227ad839828f9b66e995a</td>\n",
       "      <td>171</td>\n",
       "      <td>141</td>\n",
       "    </tr>\n",
       "    <tr>\n",
       "      <td>1</td>\n",
       "      <td>0000beb21c1a19bf2c09215e58bb59ec1cc39bcd</td>\n",
       "      <td>432</td>\n",
       "      <td>402</td>\n",
       "    </tr>\n",
       "    <tr>\n",
       "      <td>2</td>\n",
       "      <td>000196275411136c759a4c763c157eb52e5d74fa</td>\n",
       "      <td>0</td>\n",
       "      <td>0</td>\n",
       "    </tr>\n",
       "    <tr>\n",
       "      <td>3</td>\n",
       "      <td>00034a621c0d2f093945b748d477b9a5c6c06ed3</td>\n",
       "      <td>0</td>\n",
       "      <td>0</td>\n",
       "    </tr>\n",
       "    <tr>\n",
       "      <td>4</td>\n",
       "      <td>0003fade5db6291f8bfdcd0324129eb2607ac754</td>\n",
       "      <td>0</td>\n",
       "      <td>0</td>\n",
       "    </tr>\n",
       "  </tbody>\n",
       "</table>\n",
       "</div>"
      ],
      "text/plain": [
       "                                 patient_id  window_time  total_time\n",
       "0  0000b8d53ec0e7912f7227ad839828f9b66e995a          171         141\n",
       "1  0000beb21c1a19bf2c09215e58bb59ec1cc39bcd          432         402\n",
       "2  000196275411136c759a4c763c157eb52e5d74fa            0           0\n",
       "3  00034a621c0d2f093945b748d477b9a5c6c06ed3            0           0\n",
       "4  0003fade5db6291f8bfdcd0324129eb2607ac754            0           0"
      ]
     },
     "execution_count": 27,
     "metadata": {},
     "output_type": "execute_result"
    }
   ],
   "source": [
    "persontime.person_time_df.head()"
   ]
  },
  {
   "cell_type": "markdown",
   "metadata": {},
   "source": [
    "## Sample patient\n",
    "\n",
    "To illustrate the day-at-risk tallying algorithm, we can follow a single patient's encounter history to see how the days-at-risk was derived:"
   ]
  },
  {
   "cell_type": "code",
   "execution_count": 29,
   "metadata": {},
   "outputs": [
    {
     "data": {
      "text/html": [
       "<div>\n",
       "<style scoped>\n",
       "    .dataframe tbody tr th:only-of-type {\n",
       "        vertical-align: middle;\n",
       "    }\n",
       "\n",
       "    .dataframe tbody tr th {\n",
       "        vertical-align: top;\n",
       "    }\n",
       "\n",
       "    .dataframe thead th {\n",
       "        text-align: right;\n",
       "    }\n",
       "</style>\n",
       "<table border=\"1\" class=\"dataframe\">\n",
       "  <thead>\n",
       "    <tr style=\"text-align: right;\">\n",
       "      <th></th>\n",
       "      <th>patient_id</th>\n",
       "      <th>window_time</th>\n",
       "      <th>total_time</th>\n",
       "    </tr>\n",
       "  </thead>\n",
       "  <tbody>\n",
       "    <tr>\n",
       "      <td>5</td>\n",
       "      <td>00047d62549eeb80ecedd202d4b8f5cb5869367d</td>\n",
       "      <td>49</td>\n",
       "      <td>19</td>\n",
       "    </tr>\n",
       "  </tbody>\n",
       "</table>\n",
       "</div>"
      ],
      "text/plain": [
       "                                 patient_id  window_time  total_time\n",
       "5  00047d62549eeb80ecedd202d4b8f5cb5869367d           49          19"
      ]
     },
     "execution_count": 29,
     "metadata": {},
     "output_type": "execute_result"
    }
   ],
   "source": [
    "pt = '00047d62549eeb80ecedd202d4b8f5cb5869367d'\n",
    "persontime.person_time_df[persontime.person_time_df.patient_id == pt]"
   ]
  },
  {
   "cell_type": "markdown",
   "metadata": {},
   "source": [
    "We can access the selected patient's history from the PersonTime object's patient_dict attribute:"
   ]
  },
  {
   "cell_type": "code",
   "execution_count": 30,
   "metadata": {},
   "outputs": [
    {
     "data": {
      "text/plain": [
       "{'index_d': Timestamp('2018-11-11 00:00:00'),\n",
       " 'date_death': NaT,\n",
       " 'date_HF': NaT}"
      ]
     },
     "execution_count": 30,
     "metadata": {},
     "output_type": "execute_result"
    }
   ],
   "source": [
    "persontime.patient_dict[pt]"
   ]
  },
  {
   "cell_type": "code",
   "execution_count": 28,
   "metadata": {},
   "outputs": [
    {
     "data": {
      "text/html": [
       "<div>\n",
       "<style scoped>\n",
       "    .dataframe tbody tr th:only-of-type {\n",
       "        vertical-align: middle;\n",
       "    }\n",
       "\n",
       "    .dataframe tbody tr th {\n",
       "        vertical-align: top;\n",
       "    }\n",
       "\n",
       "    .dataframe thead th {\n",
       "        text-align: right;\n",
       "    }\n",
       "</style>\n",
       "<table border=\"1\" class=\"dataframe\">\n",
       "  <thead>\n",
       "    <tr style=\"text-align: right;\">\n",
       "      <th></th>\n",
       "      <th>encounter_id</th>\n",
       "      <th>patient_id</th>\n",
       "      <th>start_date</th>\n",
       "      <th>end_date</th>\n",
       "      <th>type</th>\n",
       "      <th>derived_by_TriNetX</th>\n",
       "    </tr>\n",
       "  </thead>\n",
       "  <tbody>\n",
       "    <tr>\n",
       "      <td>1976346</td>\n",
       "      <td>be2cc39330f66bc37e1bda82bfa9e5e8622b7e35</td>\n",
       "      <td>00047d62549eeb80ecedd202d4b8f5cb5869367d</td>\n",
       "      <td>2018-10-15</td>\n",
       "      <td>2018-10-15</td>\n",
       "      <td>UNKNOWN</td>\n",
       "      <td>F</td>\n",
       "    </tr>\n",
       "    <tr>\n",
       "      <td>1976347</td>\n",
       "      <td>ffb3dbb6786851bb7674e1345bc724fb701c8078</td>\n",
       "      <td>00047d62549eeb80ecedd202d4b8f5cb5869367d</td>\n",
       "      <td>2018-11-11</td>\n",
       "      <td>2018-11-11</td>\n",
       "      <td>UNKNOWN</td>\n",
       "      <td>F</td>\n",
       "    </tr>\n",
       "    <tr>\n",
       "      <td>1976348</td>\n",
       "      <td>8309f61372c909b2a89b545ca8e57d0621f64462</td>\n",
       "      <td>00047d62549eeb80ecedd202d4b8f5cb5869367d</td>\n",
       "      <td>2018-11-11</td>\n",
       "      <td>2018-11-11</td>\n",
       "      <td>UNKNOWN</td>\n",
       "      <td>F</td>\n",
       "    </tr>\n",
       "    <tr>\n",
       "      <td>1976349</td>\n",
       "      <td>b78d698ab154b0a55d85d3ec8fa9629597276c5e</td>\n",
       "      <td>00047d62549eeb80ecedd202d4b8f5cb5869367d</td>\n",
       "      <td>2019-01-06</td>\n",
       "      <td>2019-01-06</td>\n",
       "      <td>UNKNOWN</td>\n",
       "      <td>F</td>\n",
       "    </tr>\n",
       "    <tr>\n",
       "      <td>1976350</td>\n",
       "      <td>85bc11887e04b3da9213a162e9c8e0456173cd1e</td>\n",
       "      <td>00047d62549eeb80ecedd202d4b8f5cb5869367d</td>\n",
       "      <td>2019-07-14</td>\n",
       "      <td>2019-07-14</td>\n",
       "      <td>UNKNOWN</td>\n",
       "      <td>F</td>\n",
       "    </tr>\n",
       "    <tr>\n",
       "      <td>1976351</td>\n",
       "      <td>28abbd04f57e3112c8e08e0546061bdbb891ea20</td>\n",
       "      <td>00047d62549eeb80ecedd202d4b8f5cb5869367d</td>\n",
       "      <td>2019-07-05</td>\n",
       "      <td>2019-07-05</td>\n",
       "      <td>UNKNOWN</td>\n",
       "      <td>F</td>\n",
       "    </tr>\n",
       "    <tr>\n",
       "      <td>1976352</td>\n",
       "      <td>b19fe620649838fe60e2488f3aab818099176bd9</td>\n",
       "      <td>00047d62549eeb80ecedd202d4b8f5cb5869367d</td>\n",
       "      <td>2019-08-30</td>\n",
       "      <td>2019-08-30</td>\n",
       "      <td>UNKNOWN</td>\n",
       "      <td>F</td>\n",
       "    </tr>\n",
       "    <tr>\n",
       "      <td>1976353</td>\n",
       "      <td>9b95774adcc97e25ba71e4e6af57a10a9dbd2256</td>\n",
       "      <td>00047d62549eeb80ecedd202d4b8f5cb5869367d</td>\n",
       "      <td>2019-11-10</td>\n",
       "      <td>2019-11-10</td>\n",
       "      <td>UNKNOWN</td>\n",
       "      <td>F</td>\n",
       "    </tr>\n",
       "    <tr>\n",
       "      <td>1976354</td>\n",
       "      <td>65ba26ceeee48e4b339d50166950bad7c302b34a</td>\n",
       "      <td>00047d62549eeb80ecedd202d4b8f5cb5869367d</td>\n",
       "      <td>2019-11-29</td>\n",
       "      <td>2019-11-29</td>\n",
       "      <td>UNKNOWN</td>\n",
       "      <td>F</td>\n",
       "    </tr>\n",
       "  </tbody>\n",
       "</table>\n",
       "</div>"
      ],
      "text/plain": [
       "                                     encounter_id  \\\n",
       "1976346  be2cc39330f66bc37e1bda82bfa9e5e8622b7e35   \n",
       "1976347  ffb3dbb6786851bb7674e1345bc724fb701c8078   \n",
       "1976348  8309f61372c909b2a89b545ca8e57d0621f64462   \n",
       "1976349  b78d698ab154b0a55d85d3ec8fa9629597276c5e   \n",
       "1976350  85bc11887e04b3da9213a162e9c8e0456173cd1e   \n",
       "1976351  28abbd04f57e3112c8e08e0546061bdbb891ea20   \n",
       "1976352  b19fe620649838fe60e2488f3aab818099176bd9   \n",
       "1976353  9b95774adcc97e25ba71e4e6af57a10a9dbd2256   \n",
       "1976354  65ba26ceeee48e4b339d50166950bad7c302b34a   \n",
       "\n",
       "                                       patient_id start_date   end_date  \\\n",
       "1976346  00047d62549eeb80ecedd202d4b8f5cb5869367d 2018-10-15 2018-10-15   \n",
       "1976347  00047d62549eeb80ecedd202d4b8f5cb5869367d 2018-11-11 2018-11-11   \n",
       "1976348  00047d62549eeb80ecedd202d4b8f5cb5869367d 2018-11-11 2018-11-11   \n",
       "1976349  00047d62549eeb80ecedd202d4b8f5cb5869367d 2019-01-06 2019-01-06   \n",
       "1976350  00047d62549eeb80ecedd202d4b8f5cb5869367d 2019-07-14 2019-07-14   \n",
       "1976351  00047d62549eeb80ecedd202d4b8f5cb5869367d 2019-07-05 2019-07-05   \n",
       "1976352  00047d62549eeb80ecedd202d4b8f5cb5869367d 2019-08-30 2019-08-30   \n",
       "1976353  00047d62549eeb80ecedd202d4b8f5cb5869367d 2019-11-10 2019-11-10   \n",
       "1976354  00047d62549eeb80ecedd202d4b8f5cb5869367d 2019-11-29 2019-11-29   \n",
       "\n",
       "            type derived_by_TriNetX  \n",
       "1976346  UNKNOWN                  F  \n",
       "1976347  UNKNOWN                  F  \n",
       "1976348  UNKNOWN                  F  \n",
       "1976349  UNKNOWN                  F  \n",
       "1976350  UNKNOWN                  F  \n",
       "1976351  UNKNOWN                  F  \n",
       "1976352  UNKNOWN                  F  \n",
       "1976353  UNKNOWN                  F  \n",
       "1976354  UNKNOWN                  F  "
      ]
     },
     "execution_count": 28,
     "metadata": {},
     "output_type": "execute_result"
    }
   ],
   "source": [
    "encounter()[encounter().patient_id == pt]"
   ]
  },
  {
   "cell_type": "code",
   "execution_count": null,
   "metadata": {},
   "outputs": [],
   "source": []
  }
 ],
 "metadata": {
  "kernelspec": {
   "display_name": "tnxpersontime",
   "language": "python",
   "name": "tnxpersontime"
  },
  "language_info": {
   "codemirror_mode": {
    "name": "ipython",
    "version": 3
   },
   "file_extension": ".py",
   "mimetype": "text/x-python",
   "name": "python",
   "nbconvert_exporter": "python",
   "pygments_lexer": "ipython3",
   "version": "3.7.3"
  }
 },
 "nbformat": 4,
 "nbformat_minor": 2
}
