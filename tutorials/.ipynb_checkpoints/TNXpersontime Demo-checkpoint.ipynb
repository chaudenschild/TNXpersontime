{
 "cells": [
  {
   "cell_type": "markdown",
   "metadata": {},
   "source": [
    "## TNXpersontime tutorial\n",
    "\n",
    "The TNXpersontime package is a small tool suite that provides estimations of time-at-risk based on encounter data as well as simple risk and rate calculations. Included in this directory is a sample dataset of diabetic ketoacidosis (DKD) patients. To setup, either pip install the tnxpersontime python module (included in the root dir of this package) to your environment of choice or activate the bundled virtual environment tnxpersontime-venv, which has tnxpersontime and dependencies pre-installed."
   ]
  },
  {
   "cell_type": "markdown",
   "metadata": {},
   "source": [
    "! source tnxpersontime-venv/bin/activate"
   ]
  },
  {
   "cell_type": "code",
   "execution_count": 6,
   "metadata": {},
   "outputs": [],
   "source": [
    "import tnxpersontime as t"
   ]
  },
  {
   "cell_type": "markdown",
   "metadata": {},
   "source": [
    "## Data load-in\n",
    "\n",
    "The TNXDateCsv class is a convenience class that converts specified columns to datetime on read-in."
   ]
  },
  {
   "cell_type": "code",
   "execution_count": 18,
   "metadata": {},
   "outputs": [],
   "source": [
    "import pandas as pd\n",
    "\n",
    "index_file = t.TNXDateCsv('sample_data/input_file.csv', dt_cols=['index_d', 'date_death', 'date_HF'])\n",
    "\n",
    "encounter = t.TNXDateCsv('sample_data/encounter.csv', dt_cols = [\"start_date\", \"end_date\"], dt_format = \"%Y%m%d\")"
   ]
  },
  {
   "cell_type": "markdown",
   "metadata": {},
   "source": [
    "The loaded DataFrame is accessible through the df attribute, or alternatively by function calling the TNXDateCsv."
   ]
  },
  {
   "cell_type": "code",
   "execution_count": 19,
   "metadata": {},
   "outputs": [
    {
     "data": {
      "text/html": [
       "<div>\n",
       "<style scoped>\n",
       "    .dataframe tbody tr th:only-of-type {\n",
       "        vertical-align: middle;\n",
       "    }\n",
       "\n",
       "    .dataframe tbody tr th {\n",
       "        vertical-align: top;\n",
       "    }\n",
       "\n",
       "    .dataframe thead th {\n",
       "        text-align: right;\n",
       "    }\n",
       "</style>\n",
       "<table border=\"1\" class=\"dataframe\">\n",
       "  <thead>\n",
       "    <tr style=\"text-align: right;\">\n",
       "      <th></th>\n",
       "      <th>encounter_id</th>\n",
       "      <th>patient_id</th>\n",
       "      <th>start_date</th>\n",
       "      <th>end_date</th>\n",
       "      <th>type</th>\n",
       "      <th>derived_by_TriNetX</th>\n",
       "    </tr>\n",
       "  </thead>\n",
       "  <tbody>\n",
       "    <tr>\n",
       "      <td>0</td>\n",
       "      <td>4bd804a77ab72423f24ec21a305ab1f5895df1d4</td>\n",
       "      <td>40f426d38dc3b27a4593b1adb6863faaaac15c8f</td>\n",
       "      <td>2018-12-29</td>\n",
       "      <td>2018-12-29</td>\n",
       "      <td>EMER</td>\n",
       "      <td>F</td>\n",
       "    </tr>\n",
       "    <tr>\n",
       "      <td>1</td>\n",
       "      <td>dee2045a192a24f1ff176005fcd1bdafbb6fbdc2</td>\n",
       "      <td>40f426d38dc3b27a4593b1adb6863faaaac15c8f</td>\n",
       "      <td>2018-12-30</td>\n",
       "      <td>2018-12-30</td>\n",
       "      <td>EMER</td>\n",
       "      <td>F</td>\n",
       "    </tr>\n",
       "    <tr>\n",
       "      <td>2</td>\n",
       "      <td>f339d7168e947a2501425ffe35c374378a117823</td>\n",
       "      <td>40f426d38dc3b27a4593b1adb6863faaaac15c8f</td>\n",
       "      <td>2018-12-30</td>\n",
       "      <td>2019-01-03</td>\n",
       "      <td>IMP</td>\n",
       "      <td>F</td>\n",
       "    </tr>\n",
       "    <tr>\n",
       "      <td>3</td>\n",
       "      <td>cee2baf88ec76205f9b444e40803805b3b167d80</td>\n",
       "      <td>9dd1441bc6bb7f72553ccd8fcc57729faf67be83</td>\n",
       "      <td>2013-07-15</td>\n",
       "      <td>2013-07-16</td>\n",
       "      <td>IMP</td>\n",
       "      <td>F</td>\n",
       "    </tr>\n",
       "    <tr>\n",
       "      <td>4</td>\n",
       "      <td>5cb6102ec1823db6591a918dd8cf6398a1943b7c</td>\n",
       "      <td>9dd1441bc6bb7f72553ccd8fcc57729faf67be83</td>\n",
       "      <td>2013-01-07</td>\n",
       "      <td>2013-01-07</td>\n",
       "      <td>AMB</td>\n",
       "      <td>F</td>\n",
       "    </tr>\n",
       "  </tbody>\n",
       "</table>\n",
       "</div>"
      ],
      "text/plain": [
       "                               encounter_id  \\\n",
       "0  4bd804a77ab72423f24ec21a305ab1f5895df1d4   \n",
       "1  dee2045a192a24f1ff176005fcd1bdafbb6fbdc2   \n",
       "2  f339d7168e947a2501425ffe35c374378a117823   \n",
       "3  cee2baf88ec76205f9b444e40803805b3b167d80   \n",
       "4  5cb6102ec1823db6591a918dd8cf6398a1943b7c   \n",
       "\n",
       "                                 patient_id start_date   end_date  type  \\\n",
       "0  40f426d38dc3b27a4593b1adb6863faaaac15c8f 2018-12-29 2018-12-29  EMER   \n",
       "1  40f426d38dc3b27a4593b1adb6863faaaac15c8f 2018-12-30 2018-12-30  EMER   \n",
       "2  40f426d38dc3b27a4593b1adb6863faaaac15c8f 2018-12-30 2019-01-03   IMP   \n",
       "3  9dd1441bc6bb7f72553ccd8fcc57729faf67be83 2013-07-15 2013-07-16   IMP   \n",
       "4  9dd1441bc6bb7f72553ccd8fcc57729faf67be83 2013-01-07 2013-01-07   AMB   \n",
       "\n",
       "  derived_by_TriNetX  \n",
       "0                  F  \n",
       "1                  F  \n",
       "2                  F  \n",
       "3                  F  \n",
       "4                  F  "
      ]
     },
     "execution_count": 19,
     "metadata": {},
     "output_type": "execute_result"
    }
   ],
   "source": [
    "encounter.df.head()"
   ]
  },
  {
   "cell_type": "code",
   "execution_count": 20,
   "metadata": {},
   "outputs": [
    {
     "data": {
      "text/html": [
       "<div>\n",
       "<style scoped>\n",
       "    .dataframe tbody tr th:only-of-type {\n",
       "        vertical-align: middle;\n",
       "    }\n",
       "\n",
       "    .dataframe tbody tr th {\n",
       "        vertical-align: top;\n",
       "    }\n",
       "\n",
       "    .dataframe thead th {\n",
       "        text-align: right;\n",
       "    }\n",
       "</style>\n",
       "<table border=\"1\" class=\"dataframe\">\n",
       "  <thead>\n",
       "    <tr style=\"text-align: right;\">\n",
       "      <th></th>\n",
       "      <th>patient_id</th>\n",
       "      <th>index_d</th>\n",
       "      <th>date_death</th>\n",
       "      <th>date_HF</th>\n",
       "      <th>HF</th>\n",
       "      <th>sex</th>\n",
       "      <th>age_index</th>\n",
       "      <th>reth</th>\n",
       "      <th>age_cat</th>\n",
       "      <th>combo_v4</th>\n",
       "    </tr>\n",
       "  </thead>\n",
       "  <tbody>\n",
       "    <tr>\n",
       "      <td>0</td>\n",
       "      <td>0000b8d53ec0e7912f7227ad839828f9b66e995a</td>\n",
       "      <td>2018-05-17</td>\n",
       "      <td>NaT</td>\n",
       "      <td>NaT</td>\n",
       "      <td>0</td>\n",
       "      <td>F</td>\n",
       "      <td>72.421918</td>\n",
       "      <td>4</td>\n",
       "      <td>3</td>\n",
       "      <td>no change - healthy</td>\n",
       "    </tr>\n",
       "    <tr>\n",
       "      <td>1</td>\n",
       "      <td>0000beb21c1a19bf2c09215e58bb59ec1cc39bcd</td>\n",
       "      <td>2017-08-18</td>\n",
       "      <td>NaT</td>\n",
       "      <td>NaT</td>\n",
       "      <td>0</td>\n",
       "      <td>F</td>\n",
       "      <td>66.673973</td>\n",
       "      <td>1</td>\n",
       "      <td>3</td>\n",
       "      <td>no change - healthy</td>\n",
       "    </tr>\n",
       "    <tr>\n",
       "      <td>2</td>\n",
       "      <td>000196275411136c759a4c763c157eb52e5d74fa</td>\n",
       "      <td>2017-08-08</td>\n",
       "      <td>NaT</td>\n",
       "      <td>NaT</td>\n",
       "      <td>0</td>\n",
       "      <td>M</td>\n",
       "      <td>61.643836</td>\n",
       "      <td>4</td>\n",
       "      <td>3</td>\n",
       "      <td>NaN</td>\n",
       "    </tr>\n",
       "    <tr>\n",
       "      <td>3</td>\n",
       "      <td>00034a621c0d2f093945b748d477b9a5c6c06ed3</td>\n",
       "      <td>2018-07-27</td>\n",
       "      <td>NaT</td>\n",
       "      <td>NaT</td>\n",
       "      <td>0</td>\n",
       "      <td>F</td>\n",
       "      <td>54.605479</td>\n",
       "      <td>2</td>\n",
       "      <td>2</td>\n",
       "      <td>change - increased from unhealthy to unhealthy</td>\n",
       "    </tr>\n",
       "    <tr>\n",
       "      <td>4</td>\n",
       "      <td>0003fade5db6291f8bfdcd0324129eb2607ac754</td>\n",
       "      <td>2019-07-06</td>\n",
       "      <td>NaT</td>\n",
       "      <td>NaT</td>\n",
       "      <td>0</td>\n",
       "      <td>M</td>\n",
       "      <td>78.561644</td>\n",
       "      <td>1</td>\n",
       "      <td>3</td>\n",
       "      <td>no change - healthy</td>\n",
       "    </tr>\n",
       "  </tbody>\n",
       "</table>\n",
       "</div>"
      ],
      "text/plain": [
       "                                 patient_id    index_d date_death date_HF  HF  \\\n",
       "0  0000b8d53ec0e7912f7227ad839828f9b66e995a 2018-05-17        NaT     NaT   0   \n",
       "1  0000beb21c1a19bf2c09215e58bb59ec1cc39bcd 2017-08-18        NaT     NaT   0   \n",
       "2  000196275411136c759a4c763c157eb52e5d74fa 2017-08-08        NaT     NaT   0   \n",
       "3  00034a621c0d2f093945b748d477b9a5c6c06ed3 2018-07-27        NaT     NaT   0   \n",
       "4  0003fade5db6291f8bfdcd0324129eb2607ac754 2019-07-06        NaT     NaT   0   \n",
       "\n",
       "  sex  age_index  reth  age_cat  \\\n",
       "0   F  72.421918     4        3   \n",
       "1   F  66.673973     1        3   \n",
       "2   M  61.643836     4        3   \n",
       "3   F  54.605479     2        2   \n",
       "4   M  78.561644     1        3   \n",
       "\n",
       "                                         combo_v4  \n",
       "0                             no change - healthy  \n",
       "1                             no change - healthy  \n",
       "2                                             NaN  \n",
       "3  change - increased from unhealthy to unhealthy  \n",
       "4                             no change - healthy  "
      ]
     },
     "execution_count": 20,
     "metadata": {},
     "output_type": "execute_result"
    }
   ],
   "source": [
    "index_file().head()"
   ]
  },
  {
   "cell_type": "markdown",
   "metadata": {},
   "source": [
    "The input file must be provided by the investigator. At minimum it must include a column of unique patient ids with a corresponding index date column, which is the date at the patient is considered to have entered the at-risk population - in this example, the index_d column is the date that the given patient was diagnosed with DKD.\n",
    "\n",
    "Optionally, the index file may include additional endpoint measurements - in this example, the date of death (date_death) and the date of a heart failure incident (date_HF), as applicable. These points are considered hard endpoints at which the patient stops contributing time-at-risk.\n",
    "\n",
    "Furthermore, if rate and risk comparisons are to be performed, a categorical column containing the exposure variable\n",
    "\n"
   ]
  },
  {
   "cell_type": "code",
   "execution_count": null,
   "metadata": {},
   "outputs": [],
   "source": [
    "persontime = t.PersonTime(\n",
    "    encounter,\n",
    "    input_file,\n",
    "    index_file_endpoints=[\"date_death\", \"date_HF\"],\n",
    "    index_date_alias=\"index_d\",\n",
    "    patient_id_alias=\"patient_id\",\n",
    ")"
   ]
  }
 ],
 "metadata": {
  "kernelspec": {
   "display_name": "Python 3",
   "language": "python",
   "name": "python3"
  },
  "language_info": {
   "codemirror_mode": {
    "name": "ipython",
    "version": 3
   },
   "file_extension": ".py",
   "mimetype": "text/x-python",
   "name": "python",
   "nbconvert_exporter": "python",
   "pygments_lexer": "ipython3",
   "version": "3.7.5"
  }
 },
 "nbformat": 4,
 "nbformat_minor": 2
}
